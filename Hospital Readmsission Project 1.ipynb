{
 "cells": [
  {
   "cell_type": "code",
   "execution_count": 3,
   "id": "59b272c6-f04f-4201-9440-eab844f2c79b",
   "metadata": {},
   "outputs": [
    {
     "data": {
      "text/html": [
       "<div>\n",
       "<style scoped>\n",
       "    .dataframe tbody tr th:only-of-type {\n",
       "        vertical-align: middle;\n",
       "    }\n",
       "\n",
       "    .dataframe tbody tr th {\n",
       "        vertical-align: top;\n",
       "    }\n",
       "\n",
       "    .dataframe thead th {\n",
       "        text-align: right;\n",
       "    }\n",
       "</style>\n",
       "<table border=\"1\" class=\"dataframe\">\n",
       "  <thead>\n",
       "    <tr style=\"text-align: right;\">\n",
       "      <th></th>\n",
       "      <th>age</th>\n",
       "      <th>time_in_hospital</th>\n",
       "      <th>n_lab_procedures</th>\n",
       "      <th>n_procedures</th>\n",
       "      <th>n_medications</th>\n",
       "      <th>n_outpatient</th>\n",
       "      <th>n_inpatient</th>\n",
       "      <th>n_emergency</th>\n",
       "      <th>medical_specialty</th>\n",
       "      <th>diag_1</th>\n",
       "      <th>diag_2</th>\n",
       "      <th>diag_3</th>\n",
       "      <th>glucose_test</th>\n",
       "      <th>A1Ctest</th>\n",
       "      <th>change</th>\n",
       "      <th>diabetes_med</th>\n",
       "      <th>readmitted</th>\n",
       "    </tr>\n",
       "  </thead>\n",
       "  <tbody>\n",
       "    <tr>\n",
       "      <th>0</th>\n",
       "      <td>[70-80)</td>\n",
       "      <td>8</td>\n",
       "      <td>72</td>\n",
       "      <td>1</td>\n",
       "      <td>18</td>\n",
       "      <td>2</td>\n",
       "      <td>0</td>\n",
       "      <td>0</td>\n",
       "      <td>Missing</td>\n",
       "      <td>Circulatory</td>\n",
       "      <td>Respiratory</td>\n",
       "      <td>Other</td>\n",
       "      <td>no</td>\n",
       "      <td>no</td>\n",
       "      <td>no</td>\n",
       "      <td>yes</td>\n",
       "      <td>no</td>\n",
       "    </tr>\n",
       "    <tr>\n",
       "      <th>1</th>\n",
       "      <td>[70-80)</td>\n",
       "      <td>3</td>\n",
       "      <td>34</td>\n",
       "      <td>2</td>\n",
       "      <td>13</td>\n",
       "      <td>0</td>\n",
       "      <td>0</td>\n",
       "      <td>0</td>\n",
       "      <td>Other</td>\n",
       "      <td>Other</td>\n",
       "      <td>Other</td>\n",
       "      <td>Other</td>\n",
       "      <td>no</td>\n",
       "      <td>no</td>\n",
       "      <td>no</td>\n",
       "      <td>yes</td>\n",
       "      <td>no</td>\n",
       "    </tr>\n",
       "    <tr>\n",
       "      <th>2</th>\n",
       "      <td>[50-60)</td>\n",
       "      <td>5</td>\n",
       "      <td>45</td>\n",
       "      <td>0</td>\n",
       "      <td>18</td>\n",
       "      <td>0</td>\n",
       "      <td>0</td>\n",
       "      <td>0</td>\n",
       "      <td>Missing</td>\n",
       "      <td>Circulatory</td>\n",
       "      <td>Circulatory</td>\n",
       "      <td>Circulatory</td>\n",
       "      <td>no</td>\n",
       "      <td>no</td>\n",
       "      <td>yes</td>\n",
       "      <td>yes</td>\n",
       "      <td>yes</td>\n",
       "    </tr>\n",
       "    <tr>\n",
       "      <th>3</th>\n",
       "      <td>[70-80)</td>\n",
       "      <td>2</td>\n",
       "      <td>36</td>\n",
       "      <td>0</td>\n",
       "      <td>12</td>\n",
       "      <td>1</td>\n",
       "      <td>0</td>\n",
       "      <td>0</td>\n",
       "      <td>Missing</td>\n",
       "      <td>Circulatory</td>\n",
       "      <td>Other</td>\n",
       "      <td>Diabetes</td>\n",
       "      <td>no</td>\n",
       "      <td>no</td>\n",
       "      <td>yes</td>\n",
       "      <td>yes</td>\n",
       "      <td>yes</td>\n",
       "    </tr>\n",
       "    <tr>\n",
       "      <th>4</th>\n",
       "      <td>[60-70)</td>\n",
       "      <td>1</td>\n",
       "      <td>42</td>\n",
       "      <td>0</td>\n",
       "      <td>7</td>\n",
       "      <td>0</td>\n",
       "      <td>0</td>\n",
       "      <td>0</td>\n",
       "      <td>InternalMedicine</td>\n",
       "      <td>Other</td>\n",
       "      <td>Circulatory</td>\n",
       "      <td>Respiratory</td>\n",
       "      <td>no</td>\n",
       "      <td>no</td>\n",
       "      <td>no</td>\n",
       "      <td>yes</td>\n",
       "      <td>no</td>\n",
       "    </tr>\n",
       "  </tbody>\n",
       "</table>\n",
       "</div>"
      ],
      "text/plain": [
       "       age  time_in_hospital  n_lab_procedures  n_procedures  n_medications  \\\n",
       "0  [70-80)                 8                72             1             18   \n",
       "1  [70-80)                 3                34             2             13   \n",
       "2  [50-60)                 5                45             0             18   \n",
       "3  [70-80)                 2                36             0             12   \n",
       "4  [60-70)                 1                42             0              7   \n",
       "\n",
       "   n_outpatient  n_inpatient  n_emergency medical_specialty       diag_1  \\\n",
       "0             2            0            0           Missing  Circulatory   \n",
       "1             0            0            0             Other        Other   \n",
       "2             0            0            0           Missing  Circulatory   \n",
       "3             1            0            0           Missing  Circulatory   \n",
       "4             0            0            0  InternalMedicine        Other   \n",
       "\n",
       "        diag_2       diag_3 glucose_test A1Ctest change diabetes_med  \\\n",
       "0  Respiratory        Other           no      no     no          yes   \n",
       "1        Other        Other           no      no     no          yes   \n",
       "2  Circulatory  Circulatory           no      no    yes          yes   \n",
       "3        Other     Diabetes           no      no    yes          yes   \n",
       "4  Circulatory  Respiratory           no      no     no          yes   \n",
       "\n",
       "  readmitted  \n",
       "0         no  \n",
       "1         no  \n",
       "2        yes  \n",
       "3        yes  \n",
       "4         no  "
      ]
     },
     "execution_count": 3,
     "metadata": {},
     "output_type": "execute_result"
    }
   ],
   "source": [
    "import pandas as pd\n",
    "\n",
    "# loading the dataset\n",
    "df = pd.read_csv('hospital_readmissions.csv')\n",
    "df.head()"
   ]
  },
  {
   "cell_type": "code",
   "execution_count": 4,
   "id": "de8522de-305b-45a9-a7c8-d5404a29067a",
   "metadata": {},
   "outputs": [
    {
     "name": "stdout",
     "output_type": "stream",
     "text": [
      "age                  0\n",
      "time_in_hospital     0\n",
      "n_lab_procedures     0\n",
      "n_procedures         0\n",
      "n_medications        0\n",
      "n_outpatient         0\n",
      "n_inpatient          0\n",
      "n_emergency          0\n",
      "medical_specialty    0\n",
      "diag_1               0\n",
      "diag_2               0\n",
      "diag_3               0\n",
      "glucose_test         0\n",
      "A1Ctest              0\n",
      "change               0\n",
      "diabetes_med         0\n",
      "readmitted           0\n",
      "dtype: int64\n"
     ]
    }
   ],
   "source": [
    "# Checking for missing values\n",
    "print(df.isnull().sum())"
   ]
  },
  {
   "cell_type": "code",
   "execution_count": 5,
   "id": "cc0b1e02-8d4f-4af7-b4ac-32f6ab9228bf",
   "metadata": {},
   "outputs": [
    {
     "name": "stdout",
     "output_type": "stream",
     "text": [
      "readmitted: ['no' 'yes']\n"
     ]
    }
   ],
   "source": [
    "# Checking for unique values in readmission-related columns\n",
    "for col in df.columns:\n",
    "    if 'readmit' in col.lower() or 'readmission' in col.lower():\n",
    "        print(f\"{col}: {df[col].unique()}\")"
   ]
  },
  {
   "cell_type": "code",
   "execution_count": 6,
   "id": "f6034fc5-db77-4a71-b3cb-b047c43552f9",
   "metadata": {},
   "outputs": [
    {
     "name": "stdout",
     "output_type": "stream",
     "text": [
      "readmitted\n",
      "no     13246\n",
      "yes    11754\n",
      "Name: count, dtype: int64\n",
      "\n",
      "Percentages:\n",
      "readmitted\n",
      "no     52.984\n",
      "yes    47.016\n",
      "Name: proportion, dtype: float64\n"
     ]
    }
   ],
   "source": [
    "# Checking the distribution of readmission cases\n",
    "print(df['readmitted'].value_counts())\n",
    "print(\"\\nPercentages:\")\n",
    "print(df['readmitted'].value_counts(normalize=True) * 100)"
   ]
  },
  {
   "cell_type": "code",
   "execution_count": 7,
   "id": "54890cb3-ad14-4196-ba8f-d8d7a4e4a246",
   "metadata": {},
   "outputs": [
    {
     "name": "stdout",
     "output_type": "stream",
     "text": [
      "Target variable encoded:\n",
      "readmitted_encoded\n",
      "0    13246\n",
      "1    11754\n",
      "Name: count, dtype: int64\n"
     ]
    }
   ],
   "source": [
    "# Converting target variable to numeric (0 for 'no', 1 for 'yes')\n",
    "df['readmitted_encoded'] = df['readmitted'].map({'no': 0, 'yes': 1})\n",
    "print(\"Target variable encoded:\")\n",
    "print(df['readmitted_encoded'].value_counts())"
   ]
  },
  {
   "cell_type": "code",
   "execution_count": 8,
   "id": "00e8e719-b676-4838-8dca-b56f32b45045",
   "metadata": {},
   "outputs": [
    {
     "name": "stdout",
     "output_type": "stream",
     "text": [
      "Data types:\n",
      "age                   object\n",
      "time_in_hospital       int64\n",
      "n_lab_procedures       int64\n",
      "n_procedures           int64\n",
      "n_medications          int64\n",
      "n_outpatient           int64\n",
      "n_inpatient            int64\n",
      "n_emergency            int64\n",
      "medical_specialty     object\n",
      "diag_1                object\n",
      "diag_2                object\n",
      "diag_3                object\n",
      "glucose_test          object\n",
      "A1Ctest               object\n",
      "change                object\n",
      "diabetes_med          object\n",
      "readmitted            object\n",
      "readmitted_encoded     int64\n",
      "dtype: object\n"
     ]
    }
   ],
   "source": [
    "# Checking data types of all columns\n",
    "print(\"Data types:\")\n",
    "print(df.dtypes)"
   ]
  },
  {
   "cell_type": "code",
   "execution_count": 9,
   "id": "84d3487f-ed2b-4c41-8615-5d85deab2de6",
   "metadata": {},
   "outputs": [
    {
     "name": "stdout",
     "output_type": "stream",
     "text": [
      "Categorical columns encoded!\n"
     ]
    }
   ],
   "source": [
    "from sklearn.preprocessing import LabelEncoder\n",
    "\n",
    "# Now i create label encoders for all categorical columns\n",
    "categorical_cols = ['age', 'medical_specialty', 'diag_1', 'diag_2', 'diag_3', \n",
    "                   'glucose_test', 'A1Ctest', 'change', 'diabetes_med']\n",
    "\n",
    "df_encoded = df.copy()\n",
    "\n",
    "for col in categorical_cols:\n",
    "    le = LabelEncoder()\n",
    "    df_encoded[col + '_encoded'] = le.fit_transform(df_encoded[col])\n",
    "\n",
    "print(\"Categorical columns encoded!\")"
   ]
  },
  {
   "cell_type": "code",
   "execution_count": 10,
   "id": "9655277b-0d81-48a9-9da3-1ed50635a75a",
   "metadata": {},
   "outputs": [
    {
     "data": {
      "text/html": [
       "<div>\n",
       "<style scoped>\n",
       "    .dataframe tbody tr th:only-of-type {\n",
       "        vertical-align: middle;\n",
       "    }\n",
       "\n",
       "    .dataframe tbody tr th {\n",
       "        vertical-align: top;\n",
       "    }\n",
       "\n",
       "    .dataframe thead th {\n",
       "        text-align: right;\n",
       "    }\n",
       "</style>\n",
       "<table border=\"1\" class=\"dataframe\">\n",
       "  <thead>\n",
       "    <tr style=\"text-align: right;\">\n",
       "      <th></th>\n",
       "      <th>age</th>\n",
       "      <th>time_in_hospital</th>\n",
       "      <th>n_lab_procedures</th>\n",
       "      <th>n_procedures</th>\n",
       "      <th>n_medications</th>\n",
       "      <th>n_outpatient</th>\n",
       "      <th>n_inpatient</th>\n",
       "      <th>n_emergency</th>\n",
       "      <th>medical_specialty</th>\n",
       "      <th>diag_1</th>\n",
       "      <th>...</th>\n",
       "      <th>readmitted_encoded</th>\n",
       "      <th>age_encoded</th>\n",
       "      <th>medical_specialty_encoded</th>\n",
       "      <th>diag_1_encoded</th>\n",
       "      <th>diag_2_encoded</th>\n",
       "      <th>diag_3_encoded</th>\n",
       "      <th>glucose_test_encoded</th>\n",
       "      <th>A1Ctest_encoded</th>\n",
       "      <th>change_encoded</th>\n",
       "      <th>diabetes_med_encoded</th>\n",
       "    </tr>\n",
       "  </thead>\n",
       "  <tbody>\n",
       "    <tr>\n",
       "      <th>0</th>\n",
       "      <td>[70-80)</td>\n",
       "      <td>8</td>\n",
       "      <td>72</td>\n",
       "      <td>1</td>\n",
       "      <td>18</td>\n",
       "      <td>2</td>\n",
       "      <td>0</td>\n",
       "      <td>0</td>\n",
       "      <td>Missing</td>\n",
       "      <td>Circulatory</td>\n",
       "      <td>...</td>\n",
       "      <td>0</td>\n",
       "      <td>3</td>\n",
       "      <td>4</td>\n",
       "      <td>0</td>\n",
       "      <td>7</td>\n",
       "      <td>6</td>\n",
       "      <td>1</td>\n",
       "      <td>1</td>\n",
       "      <td>0</td>\n",
       "      <td>1</td>\n",
       "    </tr>\n",
       "    <tr>\n",
       "      <th>1</th>\n",
       "      <td>[70-80)</td>\n",
       "      <td>3</td>\n",
       "      <td>34</td>\n",
       "      <td>2</td>\n",
       "      <td>13</td>\n",
       "      <td>0</td>\n",
       "      <td>0</td>\n",
       "      <td>0</td>\n",
       "      <td>Other</td>\n",
       "      <td>Other</td>\n",
       "      <td>...</td>\n",
       "      <td>0</td>\n",
       "      <td>3</td>\n",
       "      <td>5</td>\n",
       "      <td>6</td>\n",
       "      <td>6</td>\n",
       "      <td>6</td>\n",
       "      <td>1</td>\n",
       "      <td>1</td>\n",
       "      <td>0</td>\n",
       "      <td>1</td>\n",
       "    </tr>\n",
       "    <tr>\n",
       "      <th>2</th>\n",
       "      <td>[50-60)</td>\n",
       "      <td>5</td>\n",
       "      <td>45</td>\n",
       "      <td>0</td>\n",
       "      <td>18</td>\n",
       "      <td>0</td>\n",
       "      <td>0</td>\n",
       "      <td>0</td>\n",
       "      <td>Missing</td>\n",
       "      <td>Circulatory</td>\n",
       "      <td>...</td>\n",
       "      <td>1</td>\n",
       "      <td>1</td>\n",
       "      <td>4</td>\n",
       "      <td>0</td>\n",
       "      <td>0</td>\n",
       "      <td>0</td>\n",
       "      <td>1</td>\n",
       "      <td>1</td>\n",
       "      <td>1</td>\n",
       "      <td>1</td>\n",
       "    </tr>\n",
       "    <tr>\n",
       "      <th>3</th>\n",
       "      <td>[70-80)</td>\n",
       "      <td>2</td>\n",
       "      <td>36</td>\n",
       "      <td>0</td>\n",
       "      <td>12</td>\n",
       "      <td>1</td>\n",
       "      <td>0</td>\n",
       "      <td>0</td>\n",
       "      <td>Missing</td>\n",
       "      <td>Circulatory</td>\n",
       "      <td>...</td>\n",
       "      <td>1</td>\n",
       "      <td>3</td>\n",
       "      <td>4</td>\n",
       "      <td>0</td>\n",
       "      <td>6</td>\n",
       "      <td>1</td>\n",
       "      <td>1</td>\n",
       "      <td>1</td>\n",
       "      <td>1</td>\n",
       "      <td>1</td>\n",
       "    </tr>\n",
       "    <tr>\n",
       "      <th>4</th>\n",
       "      <td>[60-70)</td>\n",
       "      <td>1</td>\n",
       "      <td>42</td>\n",
       "      <td>0</td>\n",
       "      <td>7</td>\n",
       "      <td>0</td>\n",
       "      <td>0</td>\n",
       "      <td>0</td>\n",
       "      <td>InternalMedicine</td>\n",
       "      <td>Other</td>\n",
       "      <td>...</td>\n",
       "      <td>0</td>\n",
       "      <td>2</td>\n",
       "      <td>3</td>\n",
       "      <td>6</td>\n",
       "      <td>0</td>\n",
       "      <td>7</td>\n",
       "      <td>1</td>\n",
       "      <td>1</td>\n",
       "      <td>0</td>\n",
       "      <td>1</td>\n",
       "    </tr>\n",
       "  </tbody>\n",
       "</table>\n",
       "<p>5 rows × 27 columns</p>\n",
       "</div>"
      ],
      "text/plain": [
       "       age  time_in_hospital  n_lab_procedures  n_procedures  n_medications  \\\n",
       "0  [70-80)                 8                72             1             18   \n",
       "1  [70-80)                 3                34             2             13   \n",
       "2  [50-60)                 5                45             0             18   \n",
       "3  [70-80)                 2                36             0             12   \n",
       "4  [60-70)                 1                42             0              7   \n",
       "\n",
       "   n_outpatient  n_inpatient  n_emergency medical_specialty       diag_1  ...  \\\n",
       "0             2            0            0           Missing  Circulatory  ...   \n",
       "1             0            0            0             Other        Other  ...   \n",
       "2             0            0            0           Missing  Circulatory  ...   \n",
       "3             1            0            0           Missing  Circulatory  ...   \n",
       "4             0            0            0  InternalMedicine        Other  ...   \n",
       "\n",
       "  readmitted_encoded age_encoded medical_specialty_encoded diag_1_encoded  \\\n",
       "0                  0           3                         4              0   \n",
       "1                  0           3                         5              6   \n",
       "2                  1           1                         4              0   \n",
       "3                  1           3                         4              0   \n",
       "4                  0           2                         3              6   \n",
       "\n",
       "  diag_2_encoded diag_3_encoded glucose_test_encoded  A1Ctest_encoded  \\\n",
       "0              7              6                    1                1   \n",
       "1              6              6                    1                1   \n",
       "2              0              0                    1                1   \n",
       "3              6              1                    1                1   \n",
       "4              0              7                    1                1   \n",
       "\n",
       "   change_encoded  diabetes_med_encoded  \n",
       "0               0                     1  \n",
       "1               0                     1  \n",
       "2               1                     1  \n",
       "3               1                     1  \n",
       "4               0                     1  \n",
       "\n",
       "[5 rows x 27 columns]"
      ]
     },
     "execution_count": 10,
     "metadata": {},
     "output_type": "execute_result"
    }
   ],
   "source": [
    "# Viewing my current dataframe\n",
    "df_encoded.head()"
   ]
  },
  {
   "cell_type": "code",
   "execution_count": 11,
   "id": "c2117ba7-37ba-4c19-b273-9eb31ea14063",
   "metadata": {},
   "outputs": [
    {
     "name": "stdout",
     "output_type": "stream",
     "text": [
      "Final feature matrix shape: (25000, 16)\n"
     ]
    }
   ],
   "source": [
    "# Selecting all encoded features for the model\n",
    "feature_cols = ['time_in_hospital', 'n_lab_procedures', 'n_procedures', \n",
    "                'n_medications', 'n_outpatient', 'n_inpatient', 'n_emergency',\n",
    "                'age_encoded', 'medical_specialty_encoded', 'diag_1_encoded', \n",
    "                'diag_2_encoded', 'diag_3_encoded', 'glucose_test_encoded', \n",
    "                'A1Ctest_encoded', 'change_encoded', 'diabetes_med_encoded']\n",
    "\n",
    "X = df_encoded[feature_cols]\n",
    "y = df_encoded['readmitted_encoded']\n",
    "\n",
    "print(\"Final feature matrix shape:\", X.shape)"
   ]
  },
  {
   "cell_type": "code",
   "execution_count": 12,
   "id": "63b9afdf-9416-477c-ae9b-bfe005ee5570",
   "metadata": {},
   "outputs": [
    {
     "name": "stdout",
     "output_type": "stream",
     "text": [
      "Training set shape: (20000, 16)\n",
      "Test set shape: (5000, 16)\n"
     ]
    }
   ],
   "source": [
    "from sklearn.model_selection import train_test_split\n",
    "\n",
    "# Splitting data into train and test sets\n",
    "X_train, X_test, y_train, y_test = train_test_split(X, y, test_size=0.2, random_state=42)\n",
    "\n",
    "print(\"Training set shape:\", X_train.shape)\n",
    "print(\"Test set shape:\", X_test.shape)"
   ]
  },
  {
   "cell_type": "code",
   "execution_count": 13,
   "id": "9b24dee9-ab08-4299-b31c-880275d9adf3",
   "metadata": {},
   "outputs": [
    {
     "name": "stdout",
     "output_type": "stream",
     "text": [
      "Model trained successfully!\n"
     ]
    }
   ],
   "source": [
    "from sklearn.ensemble import RandomForestClassifier\n",
    "\n",
    "# Creating and training the model\n",
    "model = RandomForestClassifier(n_estimators=100, random_state=42)\n",
    "model.fit(X_train, y_train)\n",
    "\n",
    "print(\"Model trained successfully!\")"
   ]
  },
  {
   "cell_type": "code",
   "execution_count": 14,
   "id": "0cc1c64f-fbec-44e3-baf5-88ea03b4c706",
   "metadata": {},
   "outputs": [
    {
     "name": "stdout",
     "output_type": "stream",
     "text": [
      "Model Accuracy: 0.602\n",
      "Model Accuracy: 60.2%\n"
     ]
    }
   ],
   "source": [
    "from sklearn.metrics import accuracy_score, classification_report\n",
    "\n",
    "# Making predictions on test set\n",
    "y_pred = model.predict(X_test)\n",
    "\n",
    "# Checking accuracy\n",
    "accuracy = accuracy_score(y_test, y_pred)\n",
    "print(f\"Model Accuracy: {accuracy:.3f}\")\n",
    "print(f\"Model Accuracy: {accuracy*100:.1f}%\")"
   ]
  },
  {
   "cell_type": "code",
   "execution_count": 15,
   "id": "53059a46-e68a-42c9-a925-a35055db2fcd",
   "metadata": {},
   "outputs": [
    {
     "name": "stdout",
     "output_type": "stream",
     "text": [
      "Detailed Classification Report:\n",
      "                precision    recall  f1-score   support\n",
      "\n",
      "No Readmission       0.61      0.69      0.65      2658\n",
      "   Readmission       0.59      0.50      0.54      2342\n",
      "\n",
      "      accuracy                           0.60      5000\n",
      "     macro avg       0.60      0.60      0.60      5000\n",
      "  weighted avg       0.60      0.60      0.60      5000\n",
      "\n"
     ]
    }
   ],
   "source": [
    "# viewing detailed classification metrics\n",
    "print(\"Detailed Classification Report:\")\n",
    "print(classification_report(y_test, y_pred, target_names=['No Readmission', 'Readmission']))"
   ]
  },
  {
   "cell_type": "code",
   "execution_count": 40,
   "id": "cda20ef6-3e5b-45ee-9e3b-d4ff26bb36bd",
   "metadata": {},
   "outputs": [
    {
     "name": "stdout",
     "output_type": "stream",
     "text": [
      "Top 10 Most Important Features:\n",
      "                      feature  importance\n",
      "1            n_lab_procedures    0.176605\n",
      "3               n_medications    0.142970\n",
      "0            time_in_hospital    0.101701\n",
      "7                 age_encoded    0.071964\n",
      "9              diag_1_encoded    0.069869\n",
      "8   medical_specialty_encoded    0.067477\n",
      "10             diag_2_encoded    0.066020\n",
      "11             diag_3_encoded    0.065834\n",
      "2                n_procedures    0.059166\n",
      "5                 n_inpatient    0.055138\n"
     ]
    }
   ],
   "source": [
    "# Determining feature importance\n",
    "feature_importance = model.feature_importances_\n",
    "feature_names = X.columns\n",
    "\n",
    "# Creating importance dataframe and sorting\n",
    "importance_df = pd.DataFrame({\n",
    "    'feature': feature_names,\n",
    "    'importance': feature_importance\n",
    "}).sort_values('importance', ascending=False)\n",
    "\n",
    "print(\"Top 10 Most Important Features:\")\n",
    "print(importance_df.head(10))"
   ]
  },
  {
   "cell_type": "code",
   "execution_count": 17,
   "id": "5c1a7b63-8173-45a8-b3d3-606607e381ee",
   "metadata": {},
   "outputs": [
    {
     "name": "stdout",
     "output_type": "stream",
     "text": [
      "Patient 1:\n",
      "  Actual: Readmission\n",
      "  Predicted: No Readmission\n",
      "  Readmission Probability: 0.470\n",
      "\n",
      "Patient 2:\n",
      "  Actual: No Readmission\n",
      "  Predicted: No Readmission\n",
      "  Readmission Probability: 0.260\n",
      "\n",
      "Patient 3:\n",
      "  Actual: No Readmission\n",
      "  Predicted: No Readmission\n",
      "  Readmission Probability: 0.420\n",
      "\n",
      "Patient 4:\n",
      "  Actual: No Readmission\n",
      "  Predicted: Readmission\n",
      "  Readmission Probability: 0.550\n",
      "\n",
      "Patient 5:\n",
      "  Actual: Readmission\n",
      "  Predicted: No Readmission\n",
      "  Readmission Probability: 0.380\n",
      "\n"
     ]
    }
   ],
   "source": [
    "# Making predictions on actual patients from test set\n",
    "#  Predicting for the first 5 patients in my test data\n",
    "real_patients = X_test.head(5)\n",
    "real_predictions = model.predict(real_patients)\n",
    "real_probabilities = model.predict_proba(real_patients)\n",
    "\n",
    "# Showing results for real patients\n",
    "for i in range(5):\n",
    "    actual = y_test.iloc[i]\n",
    "    predicted = real_predictions[i]\n",
    "    prob = real_probabilities[i][1]\n",
    "    \n",
    "    print(f\"Patient {i+1}:\")\n",
    "    print(f\"  Actual: {'Readmission' if actual == 1 else 'No Readmission'}\")\n",
    "    print(f\"  Predicted: {'Readmission' if predicted == 1 else 'No Readmission'}\")\n",
    "    print(f\"  Readmission Probability: {prob:.3f}\")\n",
    "    print()"
   ]
  },
  {
   "cell_type": "code",
   "execution_count": 18,
   "id": "5ca22b98-ac09-4412-a715-816ce7046531",
   "metadata": {},
   "outputs": [
    {
     "name": "stdout",
     "output_type": "stream",
     "text": [
      "Confusion Matrix:\n",
      "                 Predicted\n",
      "               No    Yes\n",
      "Actual No    1832    826\n",
      "Actual Yes   1162   1180\n"
     ]
    }
   ],
   "source": [
    "from sklearn.metrics import confusion_matrix\n",
    "import numpy as np\n",
    "\n",
    "# Creating confusion matrix\n",
    "cm = confusion_matrix(y_test, y_pred)\n",
    "print(\"Confusion Matrix:\")\n",
    "print(\"                 Predicted\")\n",
    "print(\"               No    Yes\")\n",
    "print(f\"Actual No   {cm[0,0]:5d}  {cm[0,1]:5d}\")\n",
    "print(f\"Actual Yes  {cm[1,0]:5d}  {cm[1,1]:5d}\")"
   ]
  },
  {
   "cell_type": "code",
   "execution_count": 19,
   "id": "368712bb-e9f8-456a-b941-c7f4e07912fd",
   "metadata": {},
   "outputs": [
    {
     "name": "stdout",
     "output_type": "stream",
     "text": [
      "Model saved as 'hospital_readmission_model.pkl'\n",
      "You can now use this model anytime without retraining!\n"
     ]
    }
   ],
   "source": [
    "import pickle\n",
    "\n",
    "# Saving the trained model\n",
    "with open('hospital_readmission_model.pkl', 'wb') as file:\n",
    "    pickle.dump(model, file)\n",
    "\n",
    "print(\"Model saved as 'hospital_readmission_model.pkl'\")\n",
    "print(\"You can now use this model anytime without retraining!\")"
   ]
  },
  {
   "cell_type": "code",
   "execution_count": 20,
   "id": "036e4b8f-a0cd-43ac-badb-2f58f61fc3db",
   "metadata": {},
   "outputs": [
    {
     "name": "stdout",
     "output_type": "stream",
     "text": [
      "==================================================\n",
      "HOSPITAL READMISSION PREDICTION PROJECT\n",
      "==================================================\n",
      "Dataset: 25000 patients\n",
      "Features: 16 variables\n",
      "Model: Random Forest Classifier\n",
      "Accuracy: 60.2%\n",
      "Key Finding: Lab procedures and medications are top predictors\n",
      "==================================================\n"
     ]
    }
   ],
   "source": [
    "# Creating project summary for my portfolio\n",
    "print(\"=\"*50)\n",
    "print(\"HOSPITAL READMISSION PREDICTION PROJECT\")\n",
    "print(\"=\"*50)\n",
    "print(f\"Dataset: {len(df)} patients\")\n",
    "print(f\"Features: {len(feature_cols)} variables\")\n",
    "print(f\"Model: Random Forest Classifier\")\n",
    "print(f\"Accuracy: {accuracy*100:.1f}%\")\n",
    "print(f\"Key Finding: Lab procedures and medications are top predictors\")\n",
    "print(\"=\"*50)"
   ]
  },
  {
   "cell_type": "code",
   "execution_count": null,
   "id": "1a822bc6-d9e7-4451-b615-ff8a3edc2bd5",
   "metadata": {},
   "outputs": [],
   "source": []
  }
 ],
 "metadata": {
  "kernelspec": {
   "display_name": "Python [conda env:base] *",
   "language": "python",
   "name": "conda-base-py"
  },
  "language_info": {
   "codemirror_mode": {
    "name": "ipython",
    "version": 3
   },
   "file_extension": ".py",
   "mimetype": "text/x-python",
   "name": "python",
   "nbconvert_exporter": "python",
   "pygments_lexer": "ipython3",
   "version": "3.12.7"
  }
 },
 "nbformat": 4,
 "nbformat_minor": 5
}
